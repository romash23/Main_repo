{
 "cells": [
  {
   "cell_type": "markdown",
   "metadata": {},
   "source": [
    "# Игра угадай число"
   ]
  },
  {
   "cell_type": "code",
   "execution_count": 2,
   "metadata": {},
   "outputs": [],
   "source": [
    "from game_v1 import score_game\n",
    "from game_v1 import random_predict\n",
    "from game_v3 import game_core_v3\n",
    "from game_v2 import game_core_v2\n",
    "from game_v3 import max_attempt_score"
   ]
  },
  {
   "cell_type": "markdown",
   "metadata": {},
   "source": [
    "## Угадываем рандомно"
   ]
  },
  {
   "cell_type": "code",
   "execution_count": 24,
   "metadata": {},
   "outputs": [
    {
     "name": "stdout",
     "output_type": "stream",
     "text": [
      "Ваш алгоритм угадывает число в среднем за:8 попыток\n",
      "Ваш алгоритм угадывает число в среднем за:99 попыток\n",
      "Ваш алгоритм угадывает число в среднем за:34 попыток\n"
     ]
    },
    {
     "data": {
      "text/plain": [
       "34"
      ]
     },
     "execution_count": 24,
     "metadata": {},
     "output_type": "execute_result"
    }
   ],
   "source": [
    "score_game(game_core_v3)\n",
    "score_game(random_predict)\n",
    "score_game(game_core_v2)"
   ]
  },
  {
   "cell_type": "markdown",
   "metadata": {},
   "source": [
    "## Считаем максильныое число попыток для целых чисел из ряда от 0 до 100"
   ]
  },
  {
   "cell_type": "code",
   "execution_count": 3,
   "metadata": {},
   "outputs": [
    {
     "name": "stdout",
     "output_type": "stream",
     "text": [
      "[7, 6, 5, 6, 4, 8, 5, 6, 3, 6, 7, 8, 4, 9, 5, 6, 2, 10, 5, 10, 11, 6, 7, 8, 3, 13, 8, 9, 4, 10, 5, 6, 1, 8, 9, 10, 4, 14, 15, 9, 10, 11, 5, 11, 12, 6, 7, 8, 2, 6, 12, 13, 7, 14, 8, 9, 3, 15, 9, 10, 4, 11, 5, 6, 0, 15, 8, 16, 9, 10, 11, 4, 17, 10, 11, 12, 5, 12, 13, 6, 7, 8, 1, 12, 13, 6, 13, 14, 7, 8, 9, 2, 15, 8, 9, 10, 3, 11, 4, 5, 6]\n",
      "Максимальное число попыток равно 17\n"
     ]
    },
    {
     "data": {
      "text/plain": [
       "17"
      ]
     },
     "execution_count": 3,
     "metadata": {},
     "output_type": "execute_result"
    }
   ],
   "source": [
    "max_attempt_score(game_core_v3)\n",
    "#max_attempt_score(game_core_v2)"
   ]
  }
 ],
 "metadata": {
  "kernelspec": {
   "display_name": "Python 3",
   "language": "python",
   "name": "python3"
  },
  "language_info": {
   "codemirror_mode": {
    "name": "ipython",
    "version": 3
   },
   "file_extension": ".py",
   "mimetype": "text/x-python",
   "name": "python",
   "nbconvert_exporter": "python",
   "pygments_lexer": "ipython3",
   "version": "3.12.4"
  },
  "orig_nbformat": 4
 },
 "nbformat": 4,
 "nbformat_minor": 2
}
